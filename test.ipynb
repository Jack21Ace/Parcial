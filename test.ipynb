{
 "cells": [
  {
   "cell_type": "markdown",
   "metadata": {},
   "source": [
    "# Numero inteligente"
   ]
  },
  {
   "cell_type": "code",
   "execution_count": 64,
   "metadata": {},
   "outputs": [],
   "source": [
    "# Importe de librerias necesarias\n",
    "import numpy as np\n",
    "from math import factorial"
   ]
  },
  {
   "cell_type": "code",
   "execution_count": 74,
   "metadata": {},
   "outputs": [],
   "source": [
    "# Numeros a validar\n",
    "def capt_num():\n",
    "    n: int = int(input(\"Cantidad de elementos a validar\"))\n",
    "    if n <= 0:\n",
    "        print(\"Debe ser un numero mayor a 0\")\n",
    "        capt_num()\n",
    "    else:\n",
    "        num_list = np.random.randint(1, n, n)\n",
    "    return validacion(num_list)\n",
    "\n",
    "\n",
    "def validacion(num_list):\n",
    "    muestra: list = num_list\n",
    "    print(f\"A continuación se presenta la muestra a examinar: \\n{[muestra]}\")\n",
    "    for e in muestra:\n",
    "        if e < 0:\n",
    "            print(\"Factorial of negative e does not exist\")\n",
    "        elif e == 0:\n",
    "            return 1\n",
    "        else:\n",
    "            fact = 1\n",
    "            while(e > 1):\n",
    "                fact *= e\n",
    "                e -= 1\n",
    "            return fact\n",
    "    if fact % 2 != 0:\n",
    "        print(f\"El numero {e} es un numero inteligente\")\n",
    "    else:\n",
    "        print(f\"El numero {e} no un numero inteligente\")\n"
   ]
  },
  {
   "cell_type": "code",
   "execution_count": 75,
   "metadata": {},
   "outputs": [
    {
     "name": "stdout",
     "output_type": "stream",
     "text": [
      "A continuación se presenta la muestra a examinar: \n",
      "[array([3, 6, 9, 3, 7, 1, 4, 6, 7, 9])]\n"
     ]
    },
    {
     "data": {
      "text/plain": [
       "6"
      ]
     },
     "execution_count": 75,
     "metadata": {},
     "output_type": "execute_result"
    }
   ],
   "source": [
    "capt_num()"
   ]
  },
  {
   "cell_type": "code",
   "execution_count": null,
   "metadata": {},
   "outputs": [],
   "source": []
  }
 ],
 "metadata": {
  "interpreter": {
   "hash": "916dbcbb3f70747c44a77c7bcd40155683ae19c65e1c03b4aa3499c5328201f1"
  },
  "kernelspec": {
   "display_name": "Python 3.9.7 64-bit",
   "language": "python",
   "name": "python3"
  },
  "language_info": {
   "codemirror_mode": {
    "name": "ipython",
    "version": 3
   },
   "file_extension": ".py",
   "mimetype": "text/x-python",
   "name": "python",
   "nbconvert_exporter": "python",
   "pygments_lexer": "ipython3",
   "version": "3.9.7"
  },
  "orig_nbformat": 4
 },
 "nbformat": 4,
 "nbformat_minor": 2
}
